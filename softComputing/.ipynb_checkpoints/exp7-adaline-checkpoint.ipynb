{
 "cells": [
  {
   "cell_type": "markdown",
   "metadata": {},
   "source": [
    "# *Experiment 7*"
   ]
  },
  {
   "cell_type": "markdown",
   "metadata": {},
   "source": [
    "# *Adaline Network*"
   ]
  },
  {
   "cell_type": "code",
   "execution_count": 27,
   "metadata": {},
   "outputs": [],
   "source": [
    "# import the required modules\n",
    "import numpy as np\n",
    "import pandas as pd\n",
    "from matplotlib import pyplot as plt\n",
    "%matplotlib inline\n",
    "import csv"
   ]
  },
  {
   "cell_type": "code",
   "execution_count": 61,
   "metadata": {},
   "outputs": [],
   "source": [
    "class graph:\n",
    "    \n",
    "    def __init__(self):\n",
    "        \n",
    "        # Set properties of the graph\n",
    "        plt.axis([-3,3,-3,3])\n",
    "        plt.grid(True)\n",
    "        plt.xlabel(\"X axis\")\n",
    "        plt.ylabel(\"Y axis\")\n",
    "        plt.title(\"Linear Separability for current weights\")\n",
    "\n",
    "        # Plot the x and y axis \n",
    "        plt.axhline(linewidth = 1, color='black')\n",
    "        plt.axvline(linewidth = 1, color='black')\n",
    "    \n",
    "    def plotpoints(self,training_data,actualop):\n",
    "        \n",
    "        # Plot of input values\n",
    "        # Positive values are red and cross\n",
    "        # Negative values are blue and circled\n",
    "        for x in range(4):\n",
    "            if(actualop[x] > 0):\n",
    "                plt.plot(training_data[x][0],training_data[x][1],'rx')\n",
    "            else :\n",
    "                plt.plot(training_data[x][0],training_data[x][1],'bo')\n",
    "                \n",
    "    def draw(self,weights,it,isLast=False):\n",
    "        \n",
    "        # Plot the lines for every iteration\n",
    "        axes = plt.gca()\n",
    "        x_vals = np.array(axes.get_xlim())\n",
    "        \n",
    "        if(weights[1] == 0):\n",
    "            return None\n",
    "        \n",
    "        slope = (-weights[0] / weights[1])\n",
    "        intercept = (-weights[2] / weights[1])\n",
    "    \n",
    "        # iteration number\n",
    "        s = \"{}\".format(it)\n",
    "        \n",
    "        # y coordinate\n",
    "        y_vals = intercept + slope * x_vals\n",
    "        \n",
    "        if(isLast):\n",
    "            plt.plot(x_vals, y_vals,color='black', linewidth=2.0)\n",
    "        else:\n",
    "            plt.plot(x_vals, y_vals, '--')\n",
    "            \n",
    "        # show the iteration number\n",
    "        plt.text(x_vals[0],y_vals[0],s,fontsize=12)        \n",
    "\n",
    "    def plotmsq(self,msq,totalmsq):\n",
    "        \n",
    "        plt.xlabel(\"X axis\")\n",
    "        plt.ylabel(\"Y axis\")\n",
    "        plt.title(\"Mean Square Errors and Total Mean Square Errors\")\n",
    "        \n",
    "        plt.plot(msq,'ro-',label='msq')\n",
    "        plt.plot(totalmsq,'bx-',label='totalmsq')\n",
    "        plt.legend(loc='upper right')\n",
    "        \n",
    "        self.showandsave(\"msq\")\n",
    "        \n",
    "    def showandsave(self,name=None):\n",
    "        \n",
    "        # store the figure\n",
    "        if(name == None):\n",
    "            plt.savefig('./figures/modelplot.png')\n",
    "        else:\n",
    "            plt.savefig('./figures/'+name+'.png')\n",
    "        # show the graph\n",
    "        plt.show()\n",
    "        "
   ]
  },
  {
   "cell_type": "code",
   "execution_count": 62,
   "metadata": {},
   "outputs": [],
   "source": [
    "class adaline:\n",
    "    \n",
    "    def __init__(self,epochs=1,alpha=1,threshold=0,todraw=True):\n",
    "        \n",
    "        # number of epochs \n",
    "        self.epochs = epochs\n",
    "        # value of learning rate\n",
    "        self.alpha = alpha\n",
    "        # value of threshold\n",
    "        self.threshold = threshold\n",
    "        # whether to draw a graph or not\n",
    "        self.todraw = todraw\n",
    "        # Call the input function to obtain the input values\n",
    "        self.extract()        \n",
    "        # dont draw if the number of features are more than two \n",
    "        checkdraw = lambda num : False if num > 2 else True\n",
    "        self.todraw = checkdraw(self.no_features)\n",
    "        \n",
    "        # Initialize the weights and bias as zero\n",
    "        self.weights = [ 0.1 for x in range(self.no_features)]\n",
    "        self.bias = 0.1\n",
    "    \n",
    "    def extract(self):\n",
    "        \n",
    "        # read the input from excel file \n",
    "        excel_file = './inputs/bipolar-or.xlsx'\n",
    "        # convert it into a pandas dataframe\n",
    "        dataframe = pd.read_excel(excel_file)\n",
    "        # find out the number of features\n",
    "        self.no_features = len(dataframe.columns) - 1\n",
    "        # find out the number of inputs\n",
    "        self.no_rows = len(dataframe.index)\n",
    "        \n",
    "        # Convert the dataframe into lists for analysis\n",
    "        self.training_data = [ dataframe.iloc[i,:self.no_features].tolist() for i in range(self.no_rows) ]\n",
    "        # Obtain the output in a separate list\n",
    "        self.actual_op = dataframe['y'].tolist()\n",
    "        \n",
    "    def activation(self,yin):\n",
    "        # return 1 if greater than threshold else -1\n",
    "        return lambda yin : 1 if(yin > self.threshold) else -1\n",
    "        \n",
    "    def displayresults(self):\n",
    "        # Display the results of the model\n",
    "        print(\"The weights are : \")\n",
    "        print(self.weights + [self.bias])\n",
    "        print(\"---------------------\")\n",
    "            \n",
    "        print(\"The set of mean squared errors are : \")\n",
    "        print(self.msq)\n",
    "        print(\"---------------------\")\n",
    "    \n",
    "    def output(self):\n",
    "        self.modelop = []\n",
    "        for j in range(self.no_rows):    \n",
    "            # Obtain the final outputs of the \n",
    "            yin = np.sum(np.array(self.training_data[j])*np.array(self.weights)) + self.bias          \n",
    "            # Obtain the output from the activation function\n",
    "            self.modelop.append(self.activation(yin))\n",
    "                \n",
    "    # function to print weights if required while testing\n",
    "    def testing(self):    \n",
    "        print(self.weights + [self.bias])\n",
    "        print(\"---------------------\")\n",
    "    \n",
    "    def calculate(self):\n",
    "        \n",
    "        if(self.todraw):\n",
    "            g = graph()\n",
    "            g.plotpoints(self.training_data,self.actual_op)\n",
    "        \n",
    "        # to store the mean squared errors\n",
    "        self.msq = []\n",
    "        self.totalmsq = []\n",
    "        \n",
    "        for i in range(self.epochs):\n",
    "            # to store the mean squared error for given epoch\n",
    "            ithmsq = 0.0\n",
    "            \n",
    "            for j in range(self.no_rows):\n",
    "                \n",
    "                # Obtain the output\n",
    "                yin = np.sum(np.array(self.training_data[j])*np.array(self.weights)) + self.bias          \n",
    "                # calculate the change for current inputs\n",
    "                change = self.actual_op[j] - yin\n",
    "                # add the mean square error\n",
    "                ithmsq += change*change\n",
    "                \n",
    "                # update the weights and the bias\n",
    "                self.weights = (np.array(self.weights) + self.alpha*change*np.array(self.training_data[j])).tolist()\n",
    "                self.bias += self.alpha*change\n",
    "                \n",
    "            # redraw the graph \n",
    "            if(self.todraw):\n",
    "                g.draw(self.weights+[self.bias],i+j/10)\n",
    "                    \n",
    "            self.msq.append(ithmsq/self.no_rows)\n",
    "            self.totalmsq.append(ithmsq)\n",
    "\n",
    "        # redraw the final line \n",
    "        if(self.todraw):\n",
    "            g.draw(self.weights+[self.bias],i+j/10,True)        \n",
    "            g.showandsave()\n",
    "            g.plotmsq(self.msq,self.totalmsq)\n",
    "            "
   ]
  },
  {
   "cell_type": "code",
   "execution_count": 63,
   "metadata": {},
   "outputs": [
    {
     "data": {
      "image/png": "[encoded data removed]",
      "text/plain": [
       "<Figure size 432x288 with 1 Axes>"
      ]
     },
     "metadata": {
      "needs_background": "light"
     },
     "output_type": "display_data"
    },
    {
     "data": {
      "image/png": "[encoded data removed]",
      "text/plain": [
       "<Figure size 432x288 with 1 Axes>"
      ]
     },
     "metadata": {
      "needs_background": "light"
     },
     "output_type": "display_data"
    }
   ],
   "source": [
    "# epochs,alpha,threshold\n",
    "p = adaline(5,0.1,0)\n",
    "p.calculate()"
   ]
  },
  {
   "cell_type": "code",
   "execution_count": 35,
   "metadata": {},
   "outputs": [
    {
     "name": "stdout",
     "output_type": "stream",
     "text": [
      "The weights are : \n",
      "[0.4893198443206734, 0.5204043959422489, 0.457548041871211]\n",
      "---------------------\n",
      "The set of mean squared errors are : \n",
      "[0.7552718725, 3.02108749, 0.4846116573975468, 1.9384466295901872, 0.3873258154221359, 1.5493032616885436, 0.3543777045566816, 1.4175108182267264, 0.34455634185180345, 1.3782253674072138]\n",
      "---------------------\n"
     ]
    }
   ],
   "source": [
    "p.displayresults()"
   ]
  }
 ],
 "metadata": {
  "kernelspec": {
   "display_name": "Python 3",
   "language": "python",
   "name": "python3"
  },
  "language_info": {
   "codemirror_mode": {
    "name": "ipython",
    "version": 3
   },
   "file_extension": ".py",
   "mimetype": "text/x-python",
   "name": "python",
   "nbconvert_exporter": "python",
   "pygments_lexer": "ipython3",
   "version": "3.5.2"
  }
 },
 "nbformat": 4,
 "nbformat_minor": 2
}
