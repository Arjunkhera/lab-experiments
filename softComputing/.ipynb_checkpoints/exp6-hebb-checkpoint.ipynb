{
 "cells": [
  {
   "cell_type": "markdown",
   "metadata": {},
   "source": [
    "# *Experiment 6*"
   ]
  },
  {
   "cell_type": "markdown",
   "metadata": {},
   "source": [
    "# *Hebb Network*"
   ]
  },
  {
   "cell_type": "code",
   "execution_count": 26,
   "metadata": {},
   "outputs": [],
   "source": [
    "# import the required modules\n",
    "import numpy as np\n",
    "import pandas as pd\n",
    "from matplotlib import pyplot as plt\n",
    "%matplotlib inline\n",
    "import csv"
   ]
  },
  {
   "cell_type": "code",
   "execution_count": 49,
   "metadata": {},
   "outputs": [],
   "source": [
    "class graph:\n",
    "    \n",
    "    def __init__(self):\n",
    "        \n",
    "        # Set properties of the graph\n",
    "        plt.axis([-3,3,-3,3])\n",
    "        plt.grid(True)\n",
    "        plt.xlabel(\"X axis\")\n",
    "        plt.ylabel(\"Y axis\")\n",
    "        plt.title(\"Linear Separability for current weights\")\n",
    "\n",
    "        # Plot the x and y axis \n",
    "        plt.axhline(linewidth = 1, color='black')\n",
    "        plt.axvline(linewidth = 1, color='black')\n",
    "    \n",
    "    def plotpoints(self,training_data,actualop):\n",
    "        \n",
    "        # Plot of input values\n",
    "        # Positive values are red and cross\n",
    "        # Negative values are blue and circled\n",
    "        for x in range(4):\n",
    "            if(actualop[x] > 0):\n",
    "                plt.plot(training_data[x][0],training_data[x][1],'rx')\n",
    "            else :\n",
    "                plt.plot(training_data[x][0],training_data[x][1],'bo')\n",
    "                \n",
    "    def draw(self,weights,it,isLast=False):\n",
    "        \n",
    "        # Plot the lines for every iteration\n",
    "        axes = plt.gca()\n",
    "        x_vals = np.array(axes.get_xlim())\n",
    "        \n",
    "        if(weights[1] == 0):\n",
    "            return None\n",
    "        \n",
    "        slope = (-weights[0] / weights[1])\n",
    "        intercept = (-weights[2] / weights[1])\n",
    "    \n",
    "        # iteration number\n",
    "        s = \"{}\".format(it)\n",
    "        \n",
    "        # y coordinate\n",
    "        y_vals = intercept + slope * x_vals\n",
    "        \n",
    "        if(isLast):\n",
    "            plt.plot(x_vals, y_vals,color='black', linewidth=2.0)\n",
    "        else:\n",
    "            plt.plot(x_vals, y_vals, '--')\n",
    "            \n",
    "        # show the iteration number\n",
    "        plt.text(x_vals[0],y_vals[0],s,fontsize=12)        \n",
    "\n",
    "    def showandsave(self,name=None):\n",
    "        \n",
    "        # store the figure\n",
    "        plt.savefig('./figures/modelplot.png')\n",
    "        # show the graph\n",
    "        plt.show()\n",
    "        "
   ]
  },
  {
   "cell_type": "code",
   "execution_count": 50,
   "metadata": {},
   "outputs": [],
   "source": [
    "class hebb:\n",
    "    \n",
    "    def __init__(self,threshold=0,todraw=True):\n",
    "    \n",
    "        # Set the threshold value\n",
    "        self.threshold = threshold\n",
    "        # Set the draw variable\n",
    "        self.todraw = todraw\n",
    "        \n",
    "        # read the input from excel file \n",
    "        excel_file = './inputs/bipolar-and.xlsx'\n",
    "        dataframe = pd.read_excel(excel_file)\n",
    "    \n",
    "        # find out the number of features\n",
    "        self.no_features = len(dataframe.columns) - 1\n",
    "        # find out the number of inputs\n",
    "        self.no_rows = len(dataframe.index)\n",
    "        \n",
    "        # Convert the dataframe into lists for analysis\n",
    "        self.training_data = [ dataframe.iloc[i,:self.no_features].tolist() for i in range(self.no_rows) ]\n",
    "        # Obtain the output in a separate list\n",
    "        self.actual_op = dataframe['y'].tolist()\n",
    "        \n",
    "        # Initialize the weights and bias as zero\n",
    "        self.weights = [ 0 for x in range(self.no_features)]\n",
    "        self.bias = 0\n",
    "    \n",
    "        \n",
    "    def displayresults(self):\n",
    "        # Display the results of the model\n",
    "        print(\"The weights are : \")\n",
    "        print(self.weights+[self.bias])\n",
    "        print(\"---------------------\")\n",
    "            \n",
    "    def calculate(self):\n",
    "        \n",
    "        if(self.todraw):\n",
    "            g = graph()\n",
    "            g.plotpoints(self.training_data,self.actual_op)    \n",
    "        \n",
    "        # Learn weights using Hebb Model\n",
    "        for x in range(self.no_rows):\n",
    "            for y in range(self.no_features):\n",
    "                self.weights[y] += self.training_data[x][y]*self.actual_op[x]\n",
    "            self.bias += 1*self.actual_op[x]\n",
    "            \n",
    "            # redraw the graph \n",
    "            if(self.todraw):\n",
    "                g.draw(self.weights+[self.bias],x)\n",
    "                    \n",
    "        # redraw the final line \n",
    "        if(self.todraw):\n",
    "            g.draw(self.weights+[self.bias],self.no_features,True)        \n",
    "            g.showandsave()\n",
    "            \n",
    "        # Obtain output by multiplying inputs and weights\n",
    "        yin = (np.sum((np.array(self.training_data)*np.array(self.weights)),axis=1)+np.array(self.bias)).tolist()\n",
    "        \n",
    "        # Apply the activation function\n",
    "        self.finalop = [ 1 if x >= self.threshold else -1 for x in yin ]\n",
    "        \n",
    "        return self.finalop"
   ]
  },
  {
   "cell_type": "code",
   "execution_count": 51,
   "metadata": {},
   "outputs": [
    {
     "data": {
      "image/png": "[encoded data removed]",
      "text/plain": [
       "<Figure size 432x288 with 1 Axes>"
      ]
     },
     "metadata": {
      "needs_background": "light"
     },
     "output_type": "display_data"
    },
    {
     "name": "stdout",
     "output_type": "stream",
     "text": [
      "The weights are : \n",
      "[2, 2, -2]\n",
      "---------------------\n"
     ]
    }
   ],
   "source": [
    "hb = hebb()\n",
    "hb.calculate()\n",
    "hb.displayresults()"
   ]
  }
 ],
 "metadata": {
  "kernelspec": {
   "display_name": "Python 3",
   "language": "python",
   "name": "python3"
  },
  "language_info": {
   "codemirror_mode": {
    "name": "ipython",
    "version": 3
   },
   "file_extension": ".py",
   "mimetype": "text/x-python",
   "name": "python",
   "nbconvert_exporter": "python",
   "pygments_lexer": "ipython3",
   "version": "3.5.2"
  }
 },
 "nbformat": 4,
 "nbformat_minor": 2
}
