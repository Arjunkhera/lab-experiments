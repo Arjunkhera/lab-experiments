{
 "cells": [
  {
   "cell_type": "markdown",
   "metadata": {},
   "source": [
    "# *Experiment 6*"
   ]
  },
  {
   "cell_type": "markdown",
   "metadata": {},
   "source": [
    "# *Mc Culloch Pitts Model*"
   ]
  },
  {
   "cell_type": "code",
   "execution_count": 3,
   "metadata": {},
   "outputs": [],
   "source": [
    "# import the required modules\n",
    "import numpy as np\n",
    "import pandas as pd\n",
    "from matplotlib import pyplot as plt\n",
    "%matplotlib inline\n",
    "import csv\n",
    "import sys"
   ]
  },
  {
   "cell_type": "code",
   "execution_count": 9,
   "metadata": {},
   "outputs": [],
   "source": [
    "class mcpitts:\n",
    "    \n",
    "    def __init__(self):\n",
    "            \n",
    "        # read the input from excel file \n",
    "        excel_file = './inputs/binary-and.xlsx'\n",
    "        dataframe = pd.read_excel(excel_file)\n",
    "    \n",
    "        # Convert the dataframe into lists for analysis\n",
    "        self.feature1 = dataframe['x1'].tolist()\n",
    "        self.feature2 = dataframe['x2'].tolist()\n",
    "        self.actualop = dataframe['y'].tolist()\n",
    "        \n",
    "        # Obtain the weights\n",
    "        self.getweights()\n",
    "    \n",
    "    def getweights(self):\n",
    "    \n",
    "        # Ask the user for weights and activation values\n",
    "        self.w1 = int(input(\"Enter the first weight : \"))\n",
    "        self.w2 = int(input(\"Enter the second weight : \"))\n",
    "        self.threshold = int(input(\"Enter the threshold value : \"))\n",
    "        \n",
    "    def calculate(self):\n",
    "    \n",
    "        # Obtain output by multiplying inputs and weights\n",
    "        self.op = [ (self.feature1[i]*self.w1+self.feature2[i]*self.w2) for i in range(4) ]\n",
    "\n",
    "        # Apply the activation function\n",
    "        self.finalop = [ 1 if x >= self.threshold else 0 for x in self.op ]\n",
    "        \n",
    "        return self.finalop\n",
    "        \n",
    "    def display(self):\n",
    "        print(\"Model outputs\")\n",
    "        print(self.finalop)    "
   ]
  },
  {
   "cell_type": "code",
   "execution_count": 8,
   "metadata": {},
   "outputs": [
    {
     "name": "stdout",
     "output_type": "stream",
     "text": [
      "Enter the first weight : 1\n",
      "Enter the first weight : 1\n",
      "Enter the threshold value : 2\n",
      "Model outputs\n",
      "[1, 0, 0, 0]\n"
     ]
    }
   ],
   "source": [
    "mc = mcpitts()\n",
    "mc.calculate()\n",
    "mc.display()"
   ]
  }
 ],
 "metadata": {
  "kernelspec": {
   "display_name": "Python 3",
   "language": "python",
   "name": "python3"
  },
  "language_info": {
   "codemirror_mode": {
    "name": "ipython",
    "version": 3
   },
   "file_extension": ".py",
   "mimetype": "text/x-python",
   "name": "python",
   "nbconvert_exporter": "python",
   "pygments_lexer": "ipython3",
   "version": "3.5.2"
  }
 },
 "nbformat": 4,
 "nbformat_minor": 2
}
