{
 "cells": [
  {
   "cell_type": "markdown",
   "metadata": {},
   "source": [
    "# *Experiment 6*"
   ]
  },
  {
   "cell_type": "markdown",
   "metadata": {},
   "source": [
    "# *Hebb Network*"
   ]
  },
  {
   "cell_type": "code",
   "execution_count": 180,
   "metadata": {},
   "outputs": [],
   "source": [
    "# import the required modules\n",
    "import numpy as np\n",
    "import pandas as pd\n",
    "from matplotlib import pyplot as plt\n",
    "%matplotlib inline\n",
    "import csv"
   ]
  },
  {
   "cell_type": "code",
   "execution_count": 181,
   "metadata": {},
   "outputs": [],
   "source": [
    "# read the input from excel file \n",
    "excel_file = './inputs/bipolar-or.xlsx'\n",
    "dataframe = pd.read_excel(excel_file)"
   ]
  },
  {
   "cell_type": "code",
   "execution_count": 182,
   "metadata": {},
   "outputs": [],
   "source": [
    "# read the input from excel file \n",
    "excel_file = 'input.xlsx'\n",
    "dataframe = pd.read_excel(excel_file)"
   ]
  },
  {
   "cell_type": "code",
   "execution_count": 183,
   "metadata": {},
   "outputs": [
    {
     "data": {
      "text/html": [
       "<div>\n",
       "<style scoped>\n",
       "    .dataframe tbody tr th:only-of-type {\n",
       "        vertical-align: middle;\n",
       "    }\n",
       "\n",
       "    .dataframe tbody tr th {\n",
       "        vertical-align: top;\n",
       "    }\n",
       "\n",
       "    .dataframe thead th {\n",
       "        text-align: right;\n",
       "    }\n",
       "</style>\n",
       "<table border=\"1\" class=\"dataframe\">\n",
       "  <thead>\n",
       "    <tr style=\"text-align: right;\">\n",
       "      <th></th>\n",
       "      <th>x1</th>\n",
       "      <th>x2</th>\n",
       "      <th>y</th>\n",
       "    </tr>\n",
       "  </thead>\n",
       "  <tbody>\n",
       "    <tr>\n",
       "      <th>1</th>\n",
       "      <td>1</td>\n",
       "      <td>1</td>\n",
       "      <td>1</td>\n",
       "    </tr>\n",
       "    <tr>\n",
       "      <th>2</th>\n",
       "      <td>1</td>\n",
       "      <td>-1</td>\n",
       "      <td>-1</td>\n",
       "    </tr>\n",
       "    <tr>\n",
       "      <th>3</th>\n",
       "      <td>-1</td>\n",
       "      <td>1</td>\n",
       "      <td>-1</td>\n",
       "    </tr>\n",
       "    <tr>\n",
       "      <th>4</th>\n",
       "      <td>-1</td>\n",
       "      <td>-1</td>\n",
       "      <td>-1</td>\n",
       "    </tr>\n",
       "  </tbody>\n",
       "</table>\n",
       "</div>"
      ],
      "text/plain": [
       "   x1  x2  y\n",
       "1   1   1  1\n",
       "2   1  -1 -1\n",
       "3  -1   1 -1\n",
       "4  -1  -1 -1"
      ]
     },
     "execution_count": 183,
     "metadata": {},
     "output_type": "execute_result"
    }
   ],
   "source": [
    "# display the input data\n",
    "dataframe"
   ]
  },
  {
   "cell_type": "code",
   "execution_count": 184,
   "metadata": {},
   "outputs": [],
   "source": [
    "# Convert the dataframe into lists for analysis\n",
    "\n",
    "feature1 = dataframe['x1'].tolist()\n",
    "feature2 = dataframe['x2'].tolist()\n",
    "actualop = dataframe['y'].tolist()"
   ]
  },
  {
   "cell_type": "code",
   "execution_count": 185,
   "metadata": {},
   "outputs": [],
   "source": [
    "# Set the initial weights as zero"
   ]
  },
  {
   "cell_type": "code",
   "execution_count": 186,
   "metadata": {},
   "outputs": [],
   "source": [
    "weights = []\n",
    "w1, w2, b = 0, 0, 0\n",
    "weights.append([w1,w2,b])"
   ]
  },
  {
   "cell_type": "code",
   "execution_count": 187,
   "metadata": {},
   "outputs": [],
   "source": [
    "for x in range(4):\n",
    "        w1, w2, b = w1 + feature1[x]*actualop[x], w2 + feature2[x]*actualop[x], b + 1*actualop[x]\n",
    "        weights.append([w1,w2,b])"
   ]
  },
  {
   "cell_type": "code",
   "execution_count": 188,
   "metadata": {},
   "outputs": [
    {
     "data": {
      "text/plain": [
       "[[0, 0, 0], [1, 1, 1], [0, 2, 0], [1, 1, -1], [2, 2, -2]]"
      ]
     },
     "execution_count": 188,
     "metadata": {},
     "output_type": "execute_result"
    }
   ],
   "source": [
    "weights"
   ]
  },
  {
   "cell_type": "code",
   "execution_count": 193,
   "metadata": {},
   "outputs": [
    {
     "data": {
      "text/plain": [
       "(2, 2, -2)"
      ]
     },
     "execution_count": 193,
     "metadata": {},
     "output_type": "execute_result"
    }
   ],
   "source": [
    "w1, w2, b"
   ]
  },
  {
   "cell_type": "code",
   "execution_count": 189,
   "metadata": {},
   "outputs": [],
   "source": [
    "slope = []\n",
    "intercept = []\n",
    "\n",
    "for x in range(1,5):\n",
    "    if(weights[x][1] == 0):\n",
    "        continue\n",
    "        \n",
    "    slope.append(-weights[x][0]/weights[x][1])\n",
    "    intercept.append(-weights[x][2]/weights[x][1])\n",
    "    "
   ]
  },
  {
   "cell_type": "code",
   "execution_count": 190,
   "metadata": {},
   "outputs": [],
   "source": [
    "def pltline():    \n",
    "    for x,y  in zip(slope,intercept):\n",
    "        yield x,y"
   ]
  },
  {
   "cell_type": "code",
   "execution_count": 191,
   "metadata": {},
   "outputs": [
    {
     "name": "stdout",
     "output_type": "stream",
     "text": [
      "-1.0 , -1.0\n",
      "0.0 , 0.0\n",
      "-1.0 , 1.0\n",
      "-1.0 , 1.0\n"
     ]
    }
   ],
   "source": [
    "gen = pltline()\n",
    "\n",
    "for i in gen:\n",
    "    print(\"{} , {}\".format(i[0],i[1]))"
   ]
  },
  {
   "cell_type": "code",
   "execution_count": 207,
   "metadata": {},
   "outputs": [
    {
     "data": {
      "image/png": "[encoded data removed]",
      "text/plain": [
       "<Figure size 432x288 with 1 Axes>"
      ]
     },
     "metadata": {
      "needs_background": "light"
     },
     "output_type": "display_data"
    },
    {
     "data": {
      "text/plain": [
       "<Figure size 432x288 with 0 Axes>"
      ]
     },
     "metadata": {},
     "output_type": "display_data"
    }
   ],
   "source": [
    "# Plot of input values\n",
    "\n",
    "# Positive values are red and cross\n",
    "# Negative values are blue and circled\n",
    "\n",
    "for x in range(4):\n",
    "    if(actualop[x] > 0):\n",
    "        plt.plot(feature1[x],feature2[x],'rx')\n",
    "    else :\n",
    "        plt.plot(feature1[x],feature2[x],'bo')        \n",
    "\n",
    "plt.axis([-3,3,-3,3])\n",
    "plt.grid(True)\n",
    "\n",
    "plt.xlabel(\"X axis\")\n",
    "plt.ylabel(\"Y axis\")\n",
    "plt.title(\"Linear Separability for current weights\")\n",
    "\n",
    "plt.axhline(linewidth = 1, color='black')\n",
    "plt.axvline(linewidth = 1, color='black')\n",
    "\n",
    "axes = plt.gca()\n",
    "x_vals = np.array(axes.get_xlim())\n",
    "\n",
    "gen = pltline()\n",
    "it = 1\n",
    "\n",
    "for i in gen:\n",
    "    s = \"{}\".format(it)\n",
    "    y_vals = i[1] + i[0] * x_vals\n",
    "    plt.plot(x_vals, y_vals, '--')\n",
    "    plt.text(x_vals[0],y_vals[0],s,fontsize=12)\n",
    "    it += 1    \n",
    "\n",
    "# redraw the final linear separable line\n",
    "sl = -w1/w2\n",
    "inte = -b/w2\n",
    "y_vals = inte + sl * x_vals\n",
    "plt.plot(x_vals, y_vals,color='black', linewidth=2.0)\n",
    "plt.text(x_vals[0],y_vals[0],s,fontsize=12)  \n",
    "\n",
    "\n",
    "# show the plot\n",
    "plt.show()\n",
    "# store the figure\n",
    "plt.savefig('modelplot.png')"
   ]
  },
  {
   "cell_type": "code",
   "execution_count": 167,
   "metadata": {},
   "outputs": [
    {
     "name": "stdout",
     "output_type": "stream",
     "text": [
      "2, 2, -2\n"
     ]
    }
   ],
   "source": [
    "print(\"{}, {}, {}\".format(w1,w2,b))"
   ]
  },
  {
   "cell_type": "code",
   "execution_count": 168,
   "metadata": {},
   "outputs": [],
   "source": [
    "op = [ w1*feature1[x] + w2*feature2[x] + b  for x in range(4)]    "
   ]
  },
  {
   "cell_type": "code",
   "execution_count": 169,
   "metadata": {},
   "outputs": [
    {
     "data": {
      "text/plain": [
       "[2, -2, -2, -6]"
      ]
     },
     "execution_count": 169,
     "metadata": {},
     "output_type": "execute_result"
    }
   ],
   "source": [
    "op"
   ]
  },
  {
   "cell_type": "code",
   "execution_count": 170,
   "metadata": {},
   "outputs": [],
   "source": [
    "finalop = [ 1 if x >= 0 else -1 for x in op ]"
   ]
  },
  {
   "cell_type": "code",
   "execution_count": 171,
   "metadata": {},
   "outputs": [
    {
     "data": {
      "text/plain": [
       "[1, -1, -1, -1]"
      ]
     },
     "execution_count": 171,
     "metadata": {},
     "output_type": "execute_result"
    }
   ],
   "source": [
    "finalop"
   ]
  },
  {
   "cell_type": "code",
   "execution_count": 172,
   "metadata": {},
   "outputs": [
    {
     "name": "stdout",
     "output_type": "stream",
     "text": [
      "The output of the model matches the expected output\n"
     ]
    }
   ],
   "source": [
    "if finalop != actualop:\n",
    "    print(\"Please make changes and try again\")\n",
    "else :\n",
    "    print(\"The output of the model matches the expected output\")"
   ]
  },
  {
   "cell_type": "markdown",
   "metadata": {},
   "source": []
  },
  {
   "cell_type": "code",
   "execution_count": 173,
   "metadata": {},
   "outputs": [],
   "source": [
    "# The following are the functions to be used in a python script"
   ]
  },
  {
   "cell_type": "code",
   "execution_count": 208,
   "metadata": {},
   "outputs": [
    {
     "name": "stdout",
     "output_type": "stream",
     "text": [
      "The output of the model matches the expected output\n"
     ]
    },
    {
     "data": {
      "image/png": "[encoded data removed]",
      "text/plain": [
       "<Figure size 432x288 with 1 Axes>"
      ]
     },
     "metadata": {
      "needs_background": "light"
     },
     "output_type": "display_data"
    },
    {
     "data": {
      "text/plain": [
       "<Figure size 432x288 with 0 Axes>"
      ]
     },
     "metadata": {},
     "output_type": "display_data"
    }
   ],
   "source": [
    "def readinput():\n",
    "    \n",
    "    # read the input from excel file \n",
    "    excel_file = './inputs/bipolar-and.xlsx'\n",
    "    dataframe = pd.read_excel(excel_file)\n",
    "    \n",
    "    # Convert the dataframe into lists for analysis\n",
    "    feature1 = dataframe['x1'].tolist()\n",
    "    feature2 = dataframe['x2'].tolist()\n",
    "    actualop = dataframe['y'].tolist()\n",
    "    \n",
    "    return feature1, feature2, actualop\n",
    "\n",
    "def calculate(feature1, feature2, actualop):\n",
    "    \n",
    "    # Set the initial weights as zero\n",
    "    w1, w2, b = 0, 0, 0\n",
    "    \n",
    "    # to store the weights for drawing the graph\n",
    "    weights = []\n",
    "    weights.append([w1,w2,b])\n",
    "    \n",
    "    # Learn weights using Hebb Model\n",
    "    for x in range(4):\n",
    "        w1, w2, b = w1 + feature1[x]*actualop[x], w2 + feature2[x]*actualop[x], b + 1*actualop[x]\n",
    "        weights.append([w1,w2,b])\n",
    "        \n",
    "    # Obtain output by multiplying inputs and weights\n",
    "    op = [ w1*feature1[x] + w2*feature2[x] + b  for x in range(4)]  \n",
    "    \n",
    "    # Apply the activation function\n",
    "    finalop = [ 1 if x >= 0 else -1 for x in op ]\n",
    "    # store the final weights\n",
    "    finalweights = [w1,w2,b]\n",
    "    \n",
    "    return actualop, finalop, weights,finalweights\n",
    "\n",
    "# function to calculate slope and intercept for every iteration\n",
    "def linefunc(weights):\n",
    "    slope = []\n",
    "    intercept = []\n",
    "\n",
    "    for x in range(1,5):\n",
    "        if(weights[x][1] == 0):\n",
    "            continue\n",
    "        \n",
    "        slope.append(-weights[x][0]/weights[x][1])\n",
    "        intercept.append(-weights[x][2]/weights[x][1])\n",
    "    \n",
    "    for x,y  in zip(slope,intercept):\n",
    "        yield x,y\n",
    "\n",
    "# function to draw the graph\n",
    "def drawgraph(weights, finalweights,actualop, feature1, feature2):        \n",
    "    # Plot of input values\n",
    "    # Positive values are red and cross\n",
    "    # Negative values are blue and circled\n",
    "    for x in range(4):\n",
    "        if(actualop[x] > 0):\n",
    "            plt.plot(feature1[x],feature2[x],'rx')\n",
    "        else :\n",
    "            plt.plot(feature1[x],feature2[x],'bo')        \n",
    "    \n",
    "    # Properties of the graph\n",
    "    plt.axis([-3,3,-3,3])\n",
    "    plt.grid(True)\n",
    "    plt.xlabel(\"X axis\")\n",
    "    plt.ylabel(\"Y axis\")\n",
    "    plt.title(\"Linear Separability for current weights\")\n",
    "\n",
    "    # Plot the x and y axis \n",
    "    plt.axhline(linewidth = 1, color='black')\n",
    "    plt.axvline(linewidth = 1, color='black')\n",
    "    \n",
    "    # Plot the lines for every iteration\n",
    "    axes = plt.gca()\n",
    "    x_vals = np.array(axes.get_xlim())\n",
    "\n",
    "    # Obtain the handle for the generator function\n",
    "    gen = linefunc(weights)\n",
    "    gen.send(None)\n",
    "    it = 1\n",
    "    \n",
    "    # Use slope and itercept for every iteration to plot the graph\n",
    "    for i in gen:\n",
    "        # iteration number\n",
    "        s = \"{}\".format(it)\n",
    "        \n",
    "        # y coordinate\n",
    "        y_vals = i[1] + i[0] * x_vals\n",
    "        plt.plot(x_vals, y_vals, '--')\n",
    "        # show the iteration number\n",
    "        plt.text(x_vals[0],y_vals[0],s,fontsize=12)\n",
    "        it += 1    \n",
    "\n",
    "    # redraw the final linear separable line in solid black\n",
    "    sl = -finalweights[0]/finalweights[1]\n",
    "    inte = -finalweights[2]/finalweights[1]\n",
    "    y_vals = inte + sl * x_vals\n",
    "    plt.plot(x_vals, y_vals,color='black', linewidth=2.0)\n",
    "    plt.text(x_vals[0],y_vals[0],s,fontsize=12)  \n",
    "\n",
    "\n",
    "    # show the plot\n",
    "    plt.show()\n",
    "    # store the figure\n",
    "    plt.savefig('modelplot.png')\n",
    "        \n",
    "# main function\n",
    "if __name__ == '__main__':\n",
    "    \n",
    "    feature1, feature2, actualop = readinput()\n",
    "    \n",
    "    # start the model\n",
    "    actualop, finalop, weights, finalweights = calculate(feature1,feature2,actualop)\n",
    "    \n",
    "    if finalop != actualop:\n",
    "        print(\"Single Layer Hebb wont work for this model\")\n",
    "    else :\n",
    "        print(\"The output of the model matches the expected output\")\n",
    "        \n",
    "    # draw the graph\n",
    "    drawgraph(weights,finalweights,actualop,feature1,feature2)"
   ]
  }
 ],
 "metadata": {
  "kernelspec": {
   "display_name": "Python 3",
   "language": "python",
   "name": "python3"
  },
  "language_info": {
   "codemirror_mode": {
    "name": "ipython",
    "version": 3
   },
   "file_extension": ".py",
   "mimetype": "text/x-python",
   "name": "python",
   "nbconvert_exporter": "python",
   "pygments_lexer": "ipython3",
   "version": "3.5.2"
  }
 },
 "nbformat": 4,
 "nbformat_minor": 2
}
