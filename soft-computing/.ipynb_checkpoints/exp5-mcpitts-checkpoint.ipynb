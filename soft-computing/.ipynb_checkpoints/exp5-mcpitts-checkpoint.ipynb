{
 "cells": [
  {
   "cell_type": "markdown",
   "metadata": {},
   "source": [
    "# *Experiment 6*"
   ]
  },
  {
   "cell_type": "markdown",
   "metadata": {},
   "source": [
    "# *Mc Culloch Pitts Model*"
   ]
  },
  {
   "cell_type": "code",
   "execution_count": 1,
   "metadata": {},
   "outputs": [],
   "source": [
    "# import the required modules\n",
    "import numpy as np\n",
    "import pandas as pd\n",
    "from matplotlib import pyplot as plt\n",
    "%matplotlib inline\n",
    "import csv\n",
    "import sys"
   ]
  },
  {
   "cell_type": "code",
   "execution_count": 78,
   "metadata": {},
   "outputs": [],
   "source": [
    "# read the input from excel file \n",
    "excel_file = 'input.xlsx'\n",
    "dataframe = pd.read_excel(excel_file)"
   ]
  },
  {
   "cell_type": "code",
   "execution_count": 79,
   "metadata": {},
   "outputs": [
    {
     "data": {
      "text/html": [
       "<div>\n",
       "<style scoped>\n",
       "    .dataframe tbody tr th:only-of-type {\n",
       "        vertical-align: middle;\n",
       "    }\n",
       "\n",
       "    .dataframe tbody tr th {\n",
       "        vertical-align: top;\n",
       "    }\n",
       "\n",
       "    .dataframe thead th {\n",
       "        text-align: right;\n",
       "    }\n",
       "</style>\n",
       "<table border=\"1\" class=\"dataframe\">\n",
       "  <thead>\n",
       "    <tr style=\"text-align: right;\">\n",
       "      <th></th>\n",
       "      <th>x1</th>\n",
       "      <th>x2</th>\n",
       "      <th>y</th>\n",
       "    </tr>\n",
       "  </thead>\n",
       "  <tbody>\n",
       "    <tr>\n",
       "      <th>1</th>\n",
       "      <td>1</td>\n",
       "      <td>1</td>\n",
       "      <td>1</td>\n",
       "    </tr>\n",
       "    <tr>\n",
       "      <th>2</th>\n",
       "      <td>1</td>\n",
       "      <td>0</td>\n",
       "      <td>0</td>\n",
       "    </tr>\n",
       "    <tr>\n",
       "      <th>3</th>\n",
       "      <td>0</td>\n",
       "      <td>1</td>\n",
       "      <td>0</td>\n",
       "    </tr>\n",
       "    <tr>\n",
       "      <th>4</th>\n",
       "      <td>0</td>\n",
       "      <td>0</td>\n",
       "      <td>0</td>\n",
       "    </tr>\n",
       "  </tbody>\n",
       "</table>\n",
       "</div>"
      ],
      "text/plain": [
       "   x1  x2  y\n",
       "1   1   1  1\n",
       "2   1   0  0\n",
       "3   0   1  0\n",
       "4   0   0  0"
      ]
     },
     "execution_count": 79,
     "metadata": {},
     "output_type": "execute_result"
    }
   ],
   "source": [
    "# display the input data\n",
    "dataframe"
   ]
  },
  {
   "cell_type": "code",
   "execution_count": 80,
   "metadata": {},
   "outputs": [],
   "source": [
    "# Convert the dataframe into lists for analysis\n",
    "\n",
    "feature1 = dataframe['x1'].tolist()\n",
    "feature2 = dataframe['x2'].tolist()\n",
    "actualop = dataframe['y'].tolist()"
   ]
  },
  {
   "cell_type": "code",
   "execution_count": 81,
   "metadata": {},
   "outputs": [],
   "source": [
    "# Ask the user for weights and activation values"
   ]
  },
  {
   "cell_type": "code",
   "execution_count": 82,
   "metadata": {},
   "outputs": [
    {
     "name": "stdout",
     "output_type": "stream",
     "text": [
      "Enter the first weight : 1\n"
     ]
    }
   ],
   "source": [
    "w1 = int(input(\"Enter the first weight : \"))"
   ]
  },
  {
   "cell_type": "code",
   "execution_count": 83,
   "metadata": {},
   "outputs": [
    {
     "name": "stdout",
     "output_type": "stream",
     "text": [
      "Enter the second weight : 1\n"
     ]
    }
   ],
   "source": [
    "w2 = int(input(\"Enter the second weight : \"))"
   ]
  },
  {
   "cell_type": "code",
   "execution_count": 84,
   "metadata": {},
   "outputs": [
    {
     "name": "stdout",
     "output_type": "stream",
     "text": [
      "Enter the threshold value : 2\n"
     ]
    }
   ],
   "source": [
    "act = int(input(\"Enter the threshold value : \"))"
   ]
  },
  {
   "cell_type": "code",
   "execution_count": 85,
   "metadata": {},
   "outputs": [],
   "source": [
    "# Obtain output by multiplying inputs and weights\n",
    "op = [ (feature1[i]*w1+feature2[i]*w2) for i in range(4) ]"
   ]
  },
  {
   "cell_type": "code",
   "execution_count": 86,
   "metadata": {},
   "outputs": [
    {
     "data": {
      "text/plain": [
       "[2, 1, 1, 0]"
      ]
     },
     "execution_count": 86,
     "metadata": {},
     "output_type": "execute_result"
    }
   ],
   "source": [
    "op"
   ]
  },
  {
   "cell_type": "code",
   "execution_count": 87,
   "metadata": {},
   "outputs": [],
   "source": [
    "# Apply the activation function\n",
    "finalop = [ 1 if x >= act else 0 for x in op ]"
   ]
  },
  {
   "cell_type": "code",
   "execution_count": 88,
   "metadata": {},
   "outputs": [
    {
     "data": {
      "text/plain": [
       "[1, 0, 0, 0]"
      ]
     },
     "execution_count": 88,
     "metadata": {},
     "output_type": "execute_result"
    }
   ],
   "source": [
    "finalop"
   ]
  },
  {
   "cell_type": "code",
   "execution_count": 89,
   "metadata": {},
   "outputs": [
    {
     "name": "stdout",
     "output_type": "stream",
     "text": [
      "The output of the model matches the expected output\n"
     ]
    }
   ],
   "source": [
    "if finalop != actualop:\n",
    "    print(\"Please make changes and try again\")\n",
    "else :\n",
    "    print(\"The output of the model matches the expected output\")"
   ]
  },
  {
   "cell_type": "markdown",
   "metadata": {},
   "source": []
  },
  {
   "cell_type": "code",
   "execution_count": 90,
   "metadata": {},
   "outputs": [],
   "source": [
    "# The following are the functions to be used in a python script"
   ]
  },
  {
   "cell_type": "code",
   "execution_count": 8,
   "metadata": {},
   "outputs": [
    {
     "name": "stdout",
     "output_type": "stream",
     "text": [
      "Enter the first weight : 1\n",
      "Enter the first weight : 1\n",
      "Enter the threshold value : 2\n",
      "The output of the model matches the expected output\n"
     ]
    }
   ],
   "source": [
    "def readinput():\n",
    "    \n",
    "    # read the input from excel file \n",
    "    excel_file = './inputs/binary-and.xlsx'\n",
    "    dataframe = pd.read_excel(excel_file)\n",
    "    \n",
    "    # Convert the dataframe into lists for analysis\n",
    "    feature1 = dataframe['x1'].tolist()\n",
    "    feature2 = dataframe['x2'].tolist()\n",
    "    actualop = dataframe['y'].tolist()\n",
    "    \n",
    "    return feature1, feature2, actualop\n",
    "\n",
    "def getweights():\n",
    "    \n",
    "    # Ask the user for weights and activation values\n",
    "    w1 = int(input(\"Enter the first weight : \"))\n",
    "    w2 = int(input(\"Enter the first weight : \"))\n",
    "    act = int(input(\"Enter the threshold value : \"))\n",
    "    \n",
    "    # To input using sys arguments\n",
    "    # w1 = int(sys.argv[1])\n",
    "    # w2 = int(sys.argv[2])\n",
    "    # act = int(sys.argv[3])\n",
    "    \n",
    "    return w1,w2,act\n",
    "\n",
    "def calculate(feature1,feature2):\n",
    "    \n",
    "    # Obtain the weights\n",
    "    w1, w2, act = getweights()\n",
    "    \n",
    "    # Obtain output by multiplying inputs and weights\n",
    "    op = [ (feature1[i]*w1+feature2[i]*w2) for i in range(4) ]\n",
    "\n",
    "    # Apply the activation function\n",
    "    finalop = [ 1 if x >= act else 0 for x in op ]\n",
    "\n",
    "    return finalop\n",
    "\n",
    "if __name__ == '__main__':\n",
    "    \n",
    "    feature1, feature2, actualop = readinput()\n",
    "    \n",
    "    # start the model\n",
    "    finalop = calculate(feature1,feature2)\n",
    "    \n",
    "    if finalop != actualop:\n",
    "        print(\"Please make changes and try again\")\n",
    "    else :\n",
    "        print(\"The output of the model matches the expected output\")"
   ]
  }
 ],
 "metadata": {
  "kernelspec": {
   "display_name": "Python 3",
   "language": "python",
   "name": "python3"
  },
  "language_info": {
   "codemirror_mode": {
    "name": "ipython",
    "version": 3
   },
   "file_extension": ".py",
   "mimetype": "text/x-python",
   "name": "python",
   "nbconvert_exporter": "python",
   "pygments_lexer": "ipython3",
   "version": "3.5.2"
  }
 },
 "nbformat": 4,
 "nbformat_minor": 2
}
