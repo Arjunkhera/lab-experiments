{
 "cells": [
  {
   "cell_type": "markdown",
   "metadata": {},
   "source": [
    "# *Experiment 3*"
   ]
  },
  {
   "cell_type": "markdown",
   "metadata": {},
   "source": [
    "# *Perceptron Network*"
   ]
  },
  {
   "cell_type": "code",
   "execution_count": 2,
   "metadata": {},
   "outputs": [],
   "source": [
    "# import the required modules\n",
    "import numpy as np\n",
    "import pandas as pd\n",
    "from matplotlib import pyplot as plt\n",
    "%matplotlib inline\n",
    "import csv"
   ]
  },
  {
   "cell_type": "code",
   "execution_count": 3,
   "metadata": {},
   "outputs": [],
   "source": [
    "class graph:\n",
    "    \n",
    "    def __init__(self):\n",
    "        \n",
    "        # Set properties of the graph\n",
    "        plt.axis([-3,3,-3,3])\n",
    "        plt.grid(True)\n",
    "        plt.xlabel(\"X axis\")\n",
    "        plt.ylabel(\"Y axis\")\n",
    "        plt.title(\"Linear Separability for current weights\")\n",
    "\n",
    "        # Plot the x and y axis \n",
    "        plt.axhline(linewidth = 1, color='black')\n",
    "        plt.axvline(linewidth = 1, color='black')\n",
    "    \n",
    "    def plotpoints(self,training_data,actualop):\n",
    "        \n",
    "        # Plot of input values\n",
    "        # Positive values are red and cross\n",
    "        # Negative values are blue and circled\n",
    "        for x in range(4):\n",
    "            if(actualop[x] > 0):\n",
    "                plt.plot(training_data[x][0],training_data[x][1],'rx')\n",
    "            else :\n",
    "                plt.plot(training_data[x][0],training_data[x][1],'bo')\n",
    "                \n",
    "    def draw(self,weights,it,isLast=False):\n",
    "        \n",
    "        # Plot the lines for every iteration\n",
    "        axes = plt.gca()\n",
    "        x_vals = np.array(axes.get_xlim())\n",
    "        \n",
    "        if(weights[1] == 0):\n",
    "            return None\n",
    "        \n",
    "        slope = (-weights[0] / weights[1])\n",
    "        intercept = (-weights[2] / weights[1])\n",
    "    \n",
    "        # iteration number\n",
    "        s = \"{}\".format(it)\n",
    "        \n",
    "        # y coordinate\n",
    "        y_vals = intercept + slope * x_vals\n",
    "        \n",
    "        if(isLast):\n",
    "            plt.plot(x_vals, y_vals,color='black', linewidth=2.0)\n",
    "        else:\n",
    "            plt.plot(x_vals, y_vals, '--')\n",
    "            \n",
    "        # show the iteration number\n",
    "        plt.text(x_vals[0],y_vals[0],s,fontsize=12)        \n",
    "\n",
    "    def showandsave(self):\n",
    "        \n",
    "        # store the figure\n",
    "        plt.savefig('./figures/modelplot.png')\n",
    "        # show the graph\n",
    "        plt.show()        "
   ]
  },
  {
   "cell_type": "code",
   "execution_count": 4,
   "metadata": {},
   "outputs": [],
   "source": [
    "class perceptron:\n",
    "    \n",
    "    def __init__(self,epochs=1,alpha=1,threshold=0,flag=True,todraw=True):\n",
    "        \n",
    "        # number of epochs \n",
    "        self.epochs = epochs\n",
    "        # value of learning rate\n",
    "        self.alpha = alpha\n",
    "        # value of threshold\n",
    "        self.threshold = threshold\n",
    "        # inputs are bipolar or binary\n",
    "        self.inptype = flag\n",
    "        # whether to draw a graph or not\n",
    "        self.todraw = todraw\n",
    "    \n",
    "        # Call the input function to obtain the input values\n",
    "        self.extract()        \n",
    "        \n",
    "        # dont draw if the number of features are more than two \n",
    "        checkdraw = lambda num : False if num > 2 else True\n",
    "        self.todraw = checkdraw(self.no_features)        \n",
    "        # Initialize the weights and bias as zero\n",
    "        self.weights = [ 0 for x in range(self.no_features)]\n",
    "        self.bias = 0\n",
    "    \n",
    "    def extract(self):\n",
    "        \n",
    "        # read the input from excel file \n",
    "        excel_file = './inputs/bipolar-andnot.xlsx'\n",
    "        # convert it into a pandas dataframe\n",
    "        dataframe = pd.read_excel(excel_file)\n",
    "        # find out the number of features\n",
    "        self.no_features = len(dataframe.columns) - 1\n",
    "        # find out the number of inputs\n",
    "        self.no_rows = len(dataframe.index)\n",
    "        \n",
    "        # Convert the dataframe into lists for analysis\n",
    "        self.training_data = [ dataframe.iloc[i,:self.no_features].tolist() for i in range(self.no_rows) ]\n",
    "        # Obtain the output in a separate list\n",
    "        self.actual_op = dataframe['y'].tolist()\n",
    "        \n",
    "    def activation(self,yin):\n",
    "        \n",
    "        # return 1 if greater than threshold\n",
    "        if(yin > self.threshold):\n",
    "            return 1\n",
    "        # return 0 if binary inputs given\n",
    "        if(self.inptype == False):\n",
    "            return 0\n",
    "        # return -1 if less the negative of threshold\n",
    "        if(yin < -self.threshold):\n",
    "            return -1\n",
    "        # otherwise return 0\n",
    "        return 0\n",
    "    \n",
    "    def displayweights(self):\n",
    "        print(self.weights,self.bias)\n",
    "        print(\"---------------------\")\n",
    "        \n",
    "    def calculate(self):\n",
    "        \n",
    "        if(self.todraw):\n",
    "            g = graph()\n",
    "            g.plotpoints(self.training_data,self.actual_op)\n",
    "        \n",
    "        for i in range(self.epochs):\n",
    "            for j in range(self.no_rows):\n",
    "                \n",
    "                # Obtain the output\n",
    "                yin = np.sum(np.array(self.training_data[j])*np.array(self.weights)) + self.bias          \n",
    "                # Obtain the output from the activation function\n",
    "                yin = self.activation(yin)\n",
    "                \n",
    "                # do not update weights if output matches\n",
    "                if(yin == self.actual_op[j]):\n",
    "                    continue\n",
    "                    \n",
    "                # update the weights and the bias\n",
    "                self.weights = (np.array(self.weights) + self.alpha*self.actual_op[j]*np.array(self.training_data[j])).tolist()\n",
    "                self.bias += self.alpha*self.actual_op[j]\n",
    "                \n",
    "                # redraw the graph \n",
    "                if(self.todraw):\n",
    "                    g.draw(self.weights+[self.bias],i+j/10)\n",
    "        \n",
    "        # redraw the final line \n",
    "        if(self.todraw):            \n",
    "            g.draw(self.weights+[self.bias],i+j/10,True)        \n",
    "            g.showandsave()"
   ]
  },
  {
   "cell_type": "code",
   "execution_count": 5,
   "metadata": {},
   "outputs": [
    {
     "data": {
      "image/png": "[encoded data removed]",
      "text/plain": [
       "<Figure size 432x288 with 1 Axes>"
      ]
     },
     "metadata": {
      "needs_background": "light"
     },
     "output_type": "display_data"
    }
   ],
   "source": [
    "p = perceptron(1)\n",
    "p.calculate()"
   ]
  }
 ],
 "metadata": {
  "kernelspec": {
   "display_name": "Python 3",
   "language": "python",
   "name": "python3"
  },
  "language_info": {
   "codemirror_mode": {
    "name": "ipython",
    "version": 3
   },
   "file_extension": ".py",
   "mimetype": "text/x-python",
   "name": "python",
   "nbconvert_exporter": "python",
   "pygments_lexer": "ipython3",
   "version": "3.5.2"
  }
 },
 "nbformat": 4,
 "nbformat_minor": 2
}
