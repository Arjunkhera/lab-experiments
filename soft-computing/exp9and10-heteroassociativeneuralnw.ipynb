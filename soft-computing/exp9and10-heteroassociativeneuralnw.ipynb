{
 "cells": [
  {
   "cell_type": "markdown",
   "metadata": {},
   "source": [
    "# *Experiment 9*"
   ]
  },
  {
   "cell_type": "markdown",
   "metadata": {},
   "source": [
    "# *Hetero Associative Neural Network*"
   ]
  },
  {
   "cell_type": "code",
   "execution_count": 1,
   "metadata": {},
   "outputs": [],
   "source": [
    "# import the required modules\n",
    "import numpy as np\n",
    "import pandas as pd\n",
    "from matplotlib import pyplot as plt\n",
    "%matplotlib inline\n",
    "import csv"
   ]
  },
  {
   "cell_type": "code",
   "execution_count": 2,
   "metadata": {},
   "outputs": [],
   "source": [
    "class heteroassociative:\n",
    "    \n",
    "    def __init__(self,features,threshold=0):\n",
    "        \n",
    "        # store number of features\n",
    "        self.num_features = features\n",
    "        # store the threshold value\n",
    "        self.threshold = threshold\n",
    "\n",
    "        # read the input from excel file \n",
    "        excel_file = './inputs/hetero.xlsx'\n",
    "        # convert it into a pandas dataframe\n",
    "        dataframe = pd.read_excel(excel_file)\n",
    "        \n",
    "        # Convert dataframe to numpy array\n",
    "        self.wholeset = dataframe.values\n",
    "        # Separate the inputs and outputs\n",
    "        self.train_data = self.wholeset[:,:self.num_features]\n",
    "        self.train_op = self.wholeset[:,self.num_features:]\n",
    "    \n",
    "    def train(self):\n",
    "        # calculate the associative weights\n",
    "        self.weights = (self.train_data.T)@(self.train_op)\n",
    "        \n",
    "    def test(self):\n",
    "        # calculate the results\n",
    "        self.op = self.train_data@self.weights\n",
    "        \n",
    "        # apply the activation function to the op\n",
    "        self.op = self.op > self.threshold\n",
    "        self.op = self.op.astype(int)\n",
    "        \n",
    "    def display(self):\n",
    "        \n",
    "        print(\"Weights : \")\n",
    "        print(self.weights)\n",
    "        \n",
    "        print(\"Outputs : \")\n",
    "        print(self.op)\n",
    "        "
   ]
  },
  {
   "cell_type": "code",
   "execution_count": 3,
   "metadata": {},
   "outputs": [],
   "source": [
    "h = heteroassociative(4,0)"
   ]
  },
  {
   "cell_type": "code",
   "execution_count": 4,
   "metadata": {},
   "outputs": [
    {
     "name": "stdout",
     "output_type": "stream",
     "text": [
      "Weights : \n",
      "[[0 2]\n",
      " [0 1]\n",
      " [1 0]\n",
      " [2 0]]\n",
      "Outputs : \n",
      "[[0 1]\n",
      " [0 1]\n",
      " [1 0]\n",
      " [1 0]]\n"
     ]
    }
   ],
   "source": [
    "h.train()\n",
    "h.test()\n",
    "h.display()"
   ]
  }
 ],
 "metadata": {
  "kernelspec": {
   "display_name": "Python 3",
   "language": "python",
   "name": "python3"
  },
  "language_info": {
   "codemirror_mode": {
    "name": "ipython",
    "version": 3
   },
   "file_extension": ".py",
   "mimetype": "text/x-python",
   "name": "python",
   "nbconvert_exporter": "python",
   "pygments_lexer": "ipython3",
   "version": "3.5.2"
  }
 },
 "nbformat": 4,
 "nbformat_minor": 2
}
