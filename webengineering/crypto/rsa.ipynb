{
 "cells": [
  {
   "cell_type": "markdown",
   "metadata": {},
   "source": [
    "**Help taken from :**\n",
    "\n",
    "[encrypt and decrypt functions](https://gist.github.com/JonCooperWorks/5314103)  \n",
    "[for the prime generator function](https://jeffknupp.com/blog/2013/04/07/improve-your-python-yield-and-generators-explained/)    "
   ]
  },
  {
   "cell_type": "code",
   "execution_count": 1,
   "metadata": {},
   "outputs": [],
   "source": [
    "import math\n",
    "import random\n",
    "import time"
   ]
  },
  {
   "cell_type": "code",
   "execution_count": 2,
   "metadata": {},
   "outputs": [],
   "source": [
    "# Euclids algorithm to find gcd\n",
    "def gcd(a, b):\n",
    "    while b != 0:\n",
    "        a, b = b, a % b\n",
    "    return a"
   ]
  },
  {
   "cell_type": "markdown",
   "metadata": {},
   "source": [
    "[Understanding Euclidean Algorithm](https://math.stackexchange.com/questions/747342/extended-euclidean-algorithm-for-modular-inverse)"
   ]
  },
  {
   "cell_type": "code",
   "execution_count": 11,
   "metadata": {},
   "outputs": [],
   "source": [
    "# extended euclidean algorithm for calculating modular inverse\n",
    "def egcd(a, b):\n",
    "    if a == 0:\n",
    "        return (b, 0, 1)\n",
    "    else:\n",
    "        g, x, y = egcd(b % a, a)\n",
    "        return (g, y- (b // a) * x, x)\n",
    "\n",
    "def modinv(a, m):\n",
    "    g, x, y = egcd(a, m)\n",
    "    if g != 1:\n",
    "        # this means a and m are not co prime and hence this algorithm cant work\n",
    "        raise Exception('modular inverse does not exist')\n",
    "    else:\n",
    "        return x % m"
   ]
  },
  {
   "cell_type": "code",
   "execution_count": 4,
   "metadata": {},
   "outputs": [],
   "source": [
    "# check whether the number is prime or not\n",
    "def is_prime(number):\n",
    "    if number > 1:\n",
    "        if number == 2:\n",
    "            return True\n",
    "        if number % 2 == 0:\n",
    "            return False\n",
    "        for current in range(3, int(math.sqrt(number) + 1), 2):\n",
    "            if number % current == 0:\n",
    "                return False\n",
    "        return True\n",
    "    return False"
   ]
  },
  {
   "cell_type": "code",
   "execution_count": 5,
   "metadata": {},
   "outputs": [],
   "source": [
    "# get a prime number just greater than a given number\n",
    "def get_primes(number):\n",
    "    while True:\n",
    "        if is_prime(number):\n",
    "            number = yield number\n",
    "        number += 1"
   ]
  },
  {
   "cell_type": "code",
   "execution_count": 6,
   "metadata": {},
   "outputs": [],
   "source": [
    "# generate the prime number for the keys\n",
    "def generate_primes():    \n",
    "    \n",
    "    # to obtain random seeds \n",
    "    random.seed(time.time())    \n",
    "    \n",
    "    # generate a random number \n",
    "    startforp = random.randint(100,200)\n",
    "    # get the generator function\n",
    "    prime_handle = get_primes(startforp)\n",
    "    \n",
    "    # get the first prime number\n",
    "    p = prime_handle.send(None)\n",
    "\n",
    "    # put a respectable gap between the two \n",
    "    startforq = startforp + 100\n",
    "    \n",
    "    # get the second prime number\n",
    "    q = prime_handle.send(startforq)\n",
    "        \n",
    "    return [p,q]"
   ]
  },
  {
   "cell_type": "code",
   "execution_count": 7,
   "metadata": {},
   "outputs": [],
   "source": [
    "# generate the public and private keys\n",
    "def generate_keys():\n",
    "    \n",
    "    # obtain two large primes\n",
    "    primes = generate_primes()\n",
    "    \n",
    "    p = primes[0]\n",
    "    q = primes[1]\n",
    "    \n",
    "    # obtain n\n",
    "    n = p*q\n",
    "    \n",
    "    # obtain the euler totient of p and q\n",
    "    phi = (p-1)*(q-1)\n",
    "    \n",
    "    # choosing standard value of e \n",
    "    e = 65537\n",
    "    \n",
    "    # Use Extended Euclid's Algorithm to generate the private key\n",
    "    d = modinv(e,phi)\n",
    "    \n",
    "    # Return public and private keypair\n",
    "    # Public key is (e, n) and private key is (d, n)\n",
    "    return ((e, n), (d, n))\n",
    "    "
   ]
  },
  {
   "cell_type": "code",
   "execution_count": 8,
   "metadata": {},
   "outputs": [],
   "source": [
    "def encrypt(pk, plaintext):\n",
    "    # Unpack the key into it's components\n",
    "    key, n = pk\n",
    "    # Convert each letter in the plaintext to numbers based on the character using a^b mod m\n",
    "    cipher = [(ord(char) ** key) % n for char in plaintext]\n",
    "    # Return the array of bytes\n",
    "    return cipher"
   ]
  },
  {
   "cell_type": "code",
   "execution_count": 9,
   "metadata": {},
   "outputs": [],
   "source": [
    "def decrypt(pk, ciphertext):\n",
    "    # Unpack the key into its components\n",
    "    key, n = pk\n",
    "    # Generate the plaintext based on the ciphertext and key using a^b mod m\n",
    "    plain = [chr((char ** key) % n) for char in ciphertext]\n",
    "    # Return the array of bytes as a string\n",
    "    return ''.join(plain)"
   ]
  },
  {
   "cell_type": "code",
   "execution_count": 12,
   "metadata": {},
   "outputs": [
    {
     "name": "stdout",
     "output_type": "stream",
     "text": [
      "Your public key is  (65537, 46883)  and your private key is  (39113, 46883)\n",
      "Enter a message to encrypt with your private key: arjun\n",
      "Your encrypted message is: \n",
      "22535867778362801725327\n",
      "-------------------------------\n",
      "Decrypting message with public key  (65537, 46883)  . . .\n",
      "Your message is:\n",
      "arjun\n"
     ]
    }
   ],
   "source": [
    "if __name__ == '__main__':\n",
    "    \n",
    "    public, private = generate_keys()\n",
    "    print (\"Your public key is \", public ,\" and your private key is \", private)\n",
    "    message = input(\"Enter a message to encrypt with your private key: \")\n",
    "    encrypted_msg = encrypt(private, message)\n",
    "    \n",
    "    print (\"Your encrypted message is: \")\n",
    "    print (''.join(map(lambda x: str(x), encrypted_msg)))\n",
    "    \n",
    "    print(\"-------------------------------\")\n",
    "    \n",
    "    print (\"Decrypting message with public key \", public ,\" . . .\")\n",
    "    print (\"Your message is:\")\n",
    "    print (decrypt(public, encrypted_msg))\n",
    "    "
   ]
  }
 ],
 "metadata": {
  "kernelspec": {
   "display_name": "Python 3",
   "language": "python",
   "name": "python3"
  },
  "language_info": {
   "codemirror_mode": {
    "name": "ipython",
    "version": 3
   },
   "file_extension": ".py",
   "mimetype": "text/x-python",
   "name": "python",
   "nbconvert_exporter": "python",
   "pygments_lexer": "ipython3",
   "version": "3.5.2"
  }
 },
 "nbformat": 4,
 "nbformat_minor": 2
}
