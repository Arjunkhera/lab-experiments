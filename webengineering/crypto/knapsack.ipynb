{
 "cells": [
  {
   "cell_type": "code",
   "execution_count": 305,
   "metadata": {},
   "outputs": [],
   "source": [
    "import random\n",
    "import math\n",
    "import time\n",
    "import binascii\n",
    "\n",
    "# unofficial modules : store in same directory\n",
    "import prime\n",
    "import gcd"
   ]
  },
  {
   "cell_type": "code",
   "execution_count": 31,
   "metadata": {},
   "outputs": [],
   "source": [
    "text = \"ABC\"\n",
    "length = len(bin(int.from_bytes(text.encode(), 'big'))[2:])"
   ]
  },
  {
   "cell_type": "code",
   "execution_count": 32,
   "metadata": {},
   "outputs": [
    {
     "data": {
      "text/plain": [
       "23"
      ]
     },
     "execution_count": 32,
     "metadata": {},
     "output_type": "execute_result"
    }
   ],
   "source": [
    "length"
   ]
  },
  {
   "cell_type": "code",
   "execution_count": 22,
   "metadata": {},
   "outputs": [
    {
     "data": {
      "text/plain": [
       "'hello'"
      ]
     },
     "execution_count": 22,
     "metadata": {},
     "output_type": "execute_result"
    }
   ],
   "source": [
    "n = int('0b110100001100101011011000110110001101111', 2)\n",
    "n.to_bytes((n.bit_length() + 7) // 8, 'big').decode()"
   ]
  },
  {
   "cell_type": "code",
   "execution_count": 52,
   "metadata": {},
   "outputs": [
    {
     "data": {
      "text/plain": [
       "448378203247"
      ]
     },
     "execution_count": 52,
     "metadata": {},
     "output_type": "execute_result"
    }
   ],
   "source": [
    "n"
   ]
  },
  {
   "cell_type": "code",
   "execution_count": 322,
   "metadata": {},
   "outputs": [],
   "source": [
    "def string2bits(s=''):\n",
    "    return [bin(ord(x))[2:].zfill(8) for x in s]"
   ]
  },
  {
   "cell_type": "code",
   "execution_count": 323,
   "metadata": {},
   "outputs": [],
   "source": [
    "def string2bits(s=''):\n",
    "    return [bin(ord(x))[2:].zfill(8) for x in s]\n",
    "def bits2string(b=None):\n",
    "    return ''.join([chr(int(x, 2)) for x in b])"
   ]
  },
  {
   "cell_type": "code",
   "execution_count": 329,
   "metadata": {},
   "outputs": [
    {
     "name": "stdout",
     "output_type": "stream",
     "text": [
      "['01100001', '00101111', '01100010'] 8\n"
     ]
    }
   ],
   "source": [
    "string = string2bits(\"a/b\")\n",
    "print(string,len(string[0]))"
   ]
  },
  {
   "cell_type": "code",
   "execution_count": 327,
   "metadata": {},
   "outputs": [
    {
     "name": "stdout",
     "output_type": "stream",
     "text": [
      "011000010010111101100010\n"
     ]
    }
   ],
   "source": [
    "check = ''.join(string)\n",
    "print(check)"
   ]
  },
  {
   "cell_type": "code",
   "execution_count": 328,
   "metadata": {},
   "outputs": [
    {
     "name": "stdout",
     "output_type": "stream",
     "text": [
      "a/b\n"
     ]
    }
   ],
   "source": [
    "print(bits2string(string))"
   ]
  },
  {
   "cell_type": "code",
   "execution_count": 309,
   "metadata": {},
   "outputs": [
    {
     "name": "stdout",
     "output_type": "stream",
     "text": [
      "11000011100010 14\n"
     ]
    }
   ],
   "source": [
    "st = \"ab\"\n",
    "string = (''.join(format(ord(x), 'b') for x in st))\n",
    "print(string,len(string))"
   ]
  },
  {
   "cell_type": "code",
   "execution_count": 273,
   "metadata": {},
   "outputs": [
    {
     "name": "stdout",
     "output_type": "stream",
     "text": [
      "3\n",
      "a\n",
      "11000101100011\n",
      "b\n",
      "1100011\n",
      "c\n",
      "\n"
     ]
    }
   ],
   "source": [
    "iterations = int(len(string)/7)\n",
    "print(iterations)\n",
    "\n",
    "for i in range(iterations):\n",
    "    print(chr(int(string[:7], 2)))\n",
    "    string = string[7:]\n",
    "    print(string)"
   ]
  },
  {
   "cell_type": "code",
   "execution_count": 355,
   "metadata": {},
   "outputs": [
    {
     "name": "stdout",
     "output_type": "stream",
     "text": [
      "[45, 62, 112] [121, 262, 188]\n",
      "268 229 213\n",
      "check this bro  a/bsdf  7\n",
      "and this binary :  01100001001011110110001001110011011001000110011000100000\n",
      "My length is : 56\n",
      "I am in here\n",
      "what is padtext :  0 1\n",
      "and this binary :  011000010010111101100010011100110110010001100110001000000\n",
      "The number of traversals are : 19\n",
      "Binary man :  011000010010111101100010011100110110010001100110001000000\n",
      "here is the man :  450\n",
      "here is the man :  0\n",
      "here is the man :  262\n",
      "here is the man :  262\n",
      "here is the man :  571\n",
      "here is the man :  309\n",
      "here is the man :  121\n",
      "here is the man :  262\n",
      "here is the man :  450\n",
      "here is the man :  121\n",
      "here is the man :  383\n",
      "here is the man :  383\n",
      "here is the man :  262\n",
      "here is the man :  188\n",
      "here is the man :  121\n",
      "here is the man :  383\n",
      "here is the man :  188\n",
      "here is the man :  0\n",
      "here is the man :  0\n",
      "450026226257130912126245012138338326218812138318800 [450, 0, 262, 262, 571, 309, 121, 262, 450, 121, 383, 383, 262, 188, 121, 383, 188, 0, 0]\n",
      "This was stored :  [450, 0, 262, 262, 571, 309, 121, 262, 450, 121, 383, 383, 262, 188, 121, 383, 188, 0, 0]\n",
      "This was passed :  [450, 0, 262, 262, 571, 309, 121, 262, 450, 121, 383, 383, 262, 188, 121, 383, 188, 0, 0]\n",
      "This is what i got :  [174, 0, 62, 62, 219, 157, 45, 62, 174, 45, 107, 107, 62, 112, 45, 107, 112, 0, 0]\n",
      "Checking these :  011\n",
      "Checking these :  000\n",
      "Checking these :  010\n",
      "Checking these :  010\n",
      "Checking these :  111\n",
      "Checking these :  101\n",
      "Checking these :  100\n",
      "Checking these :  010\n",
      "Checking these :  011\n",
      "Checking these :  100\n",
      "Checking these :  110\n",
      "Checking these :  110\n",
      "Checking these :  010\n",
      "Checking these :  001\n",
      "Checking these :  100\n",
      "Checking these :  110\n",
      "Checking these :  001\n",
      "Checking these :  000\n",
      "Checking these :  000\n",
      "This was the original binary :  011000010010111101100010011100110110010001100110001000000\n",
      "This is the decrypted binary :  011000010010111101100010011100110110010001100110001000000\n",
      "57 57\n",
      "--\n",
      "-- 56 57 1 --\n",
      "--\n",
      "------------------------------------------\n",
      "This is the decrypted binary :  01100001001011110110001001110011011001000110011000100000\n",
      "57 56\n",
      "lalala 7\n",
      "for gods sake :  ['01100001', '00101111', '01100010', '01110011', '01100100', '01100110', '00100000']\n",
      "this is decrypted message :  a/bsdf   and its length :  7\n",
      "\n",
      "\n",
      "\n",
      " 7\n"
     ]
    }
   ],
   "source": [
    "knap = knapsack(3)\n",
    "pv_key = knap.generatePrivateKey()\n",
    "pb_key = knap.generatePublicKey()\n",
    "\n",
    "print(knap.private_key,knap.public_key)\n",
    "print(knap.modulo,knap.multiplier,knap.inverse)\n",
    "\n",
    "encrypted_text,encrypted_list = knap.encrypt(\"a/bsdf \")\n",
    "print(encrypted_text,encrypted_list)\n",
    "print(\"\\n\\n\\n\",len(knap.decrypt(encrypted_list)))"
   ]
  },
  {
   "cell_type": "code",
   "execution_count": 353,
   "metadata": {},
   "outputs": [],
   "source": [
    "class knapsack:\n",
    "    \n",
    "    def __init__(self,n:int):\n",
    "        \n",
    "        self.n = n\n",
    "        #self.private_key = self.generatePrivateKey()\n",
    "        #self.public_key = self.generatePublicKey()\n",
    "\n",
    "    def generatePrivateKey(self) -> list:\n",
    "\n",
    "        # to obtain random seeds\n",
    "        random.seed(time.time())\n",
    "\n",
    "        # generate the first number of the series\n",
    "        self.sum = random.randint(10,50)\n",
    "    \n",
    "        # private key\n",
    "        key = [self.sum]\n",
    "        \n",
    "        # generate the remaining values for private key\n",
    "        for i in range(self.n-1):\n",
    "            nextnum = random.randint(self.sum+1,self.sum+20)\n",
    "            self.sum += nextnum\n",
    "            key.append(nextnum)        \n",
    "            \n",
    "        # store the modulo required for public key generation\n",
    "        self.modulo = random.randint(self.sum+30,self.sum+50)\n",
    "        \n",
    "        # get the generator function\n",
    "        prime_handle = prime.get_primes(self.sum+10)\n",
    "        \n",
    "        # get the first prime number : to ensure multiplier and modulo are co prime\n",
    "        self.multiplier = prime_handle.send(None)\n",
    "        \n",
    "        # get the inverse of multiplier\n",
    "        self.inverse = gcd.modinv(self.multiplier,self.modulo)\n",
    "        \n",
    "        self.private_key = key\n",
    "        # return the private key\n",
    "        return self.private_key    \n",
    "    \n",
    "    def generatePublicKey(self) -> list:        \n",
    "        self.public_key = [ (x*self.multiplier)%self.modulo for x in self.private_key ]\n",
    "        return self.public_key\n",
    "        \n",
    "    def string2bits(self,s=''):\n",
    "        return [bin(ord(x))[2:].zfill(8) for x in s]\n",
    "    \n",
    "    def bits2string(self,b=None):\n",
    "        return ''.join([chr(int(x, 2)) for x in b])    \n",
    "    \n",
    "    def padding(self,extraspace:int) -> str:\n",
    "        self.padtext = \"0\"*extraspace\n",
    "    \n",
    "    def convertToBinary(self) -> str:\n",
    "        \n",
    "        # convert string to binary\n",
    "        self.binary = ''.join(self.string2bits(self.text))\n",
    "        print(\"and this binary : \",self.binary)\n",
    "        \n",
    "        # to check if padding is needed or not\n",
    "        length = len(self.binary)\n",
    "        \n",
    "        print(\"My length is :\",length)\n",
    "    \n",
    "        self.padtext = \"\"\n",
    "        if(length%self.n != 0):\n",
    "            print(\"I am in here\")\n",
    "            extraspace = self.n - length%self.n\n",
    "            self.padding(extraspace)\n",
    "            self.binary = self.binary + self.padtext\n",
    "        print(\"what is padtext : \",self.padtext,len(self.padtext)) \n",
    "        print(\"and this binary : \",self.binary)\n",
    "        \n",
    "    def encrypt(self,text:str) -> str:\n",
    "        \n",
    "        # store the plaintext\n",
    "        self.text = text\n",
    "        print(\"check this bro \",self.text,len(self.text))\n",
    "        \n",
    "        # convert the text to binary\n",
    "        self.convertToBinary()\n",
    "\n",
    "        self.encryptedlist = []\n",
    "        traversals = int(len(self.binary)/self.n)\n",
    "        \n",
    "        print(\"The number of traversals are :\",traversals)\n",
    "        print(\"Binary man : \",self.binary)\n",
    "        \n",
    "        # encode the string\n",
    "        j = 0\n",
    "        for i in range(traversals):\n",
    "            temp = 0\n",
    "            for val in self.public_key:\n",
    "                if(self.binary[j] == '1'):\n",
    "                    temp += val\n",
    "                j += 1    \n",
    "            self.encryptedlist.append(temp)   \n",
    "            print(\"here is the man : \",temp)\n",
    "                    \n",
    "        # convert the list to string\n",
    "        self.encrypted_message = ''.join(map(lambda x: str(x),self.encryptedlist))\n",
    "        return self.encrypted_message,self.encryptedlist\n",
    "    \n",
    "    def helper(self,num):\n",
    "        # find out the binary value for given set using private key\n",
    "        decryptbin = \"\"\n",
    "        for val in reversed(self.private_key):\n",
    "            if num >= val:\n",
    "                num -= val\n",
    "                decryptbin += \"1\"\n",
    "            else:\n",
    "                decryptbin += \"0\"\n",
    "        print(\"Checking these : \",decryptbin[::-1])\n",
    "        return decryptbin[::-1]\n",
    "        \n",
    "    def decrypt(self,encryptlist:list) -> str:\n",
    "        \n",
    "        # decrypt the list\n",
    "        self.decryptedlist = [ (x*self.inverse)%self.modulo for x in encryptlist ]\n",
    "        \n",
    "        print(\"This was stored : \",self.encryptedlist)\n",
    "        print(\"This was passed : \",self.encryptedlist)\n",
    "        print(\"This is what i got : \",self.decryptedlist)\n",
    "        \n",
    "        self.decryptedbinary = \"\"\n",
    "        for val in self.decryptedlist:\n",
    "            self.decryptedbinary += self.helper(val)\n",
    "        \n",
    "        print(\"This was the original binary : \",self.binary)\n",
    "        print(\"This is the decrypted binary : \",self.decryptedbinary)\n",
    "        print(len(self.binary),len(self.decryptedbinary))\n",
    "        \n",
    "        # remove the extra padded space\n",
    "        length = len(self.decryptedbinary) - len(self.padtext)\n",
    "        print(\"--\\n--\",length,len(self.decryptedbinary),len(self.padtext),\"--\\n--\")\n",
    "        self.decryptedbinary = self.decryptedbinary[:length]\n",
    "        \n",
    "        print(\"------------------------------------------\")\n",
    "        print(\"This is the decrypted binary : \",self.decryptedbinary)\n",
    "        print(len(self.binary),len(self.decryptedbinary))\n",
    "        \n",
    "        # convert binary to string\n",
    "        iterations = int(len(self.decryptedbinary)/8)\n",
    "        print(\"lalala\",iterations)\n",
    "        \n",
    "        decryption_list = []\n",
    "        self.decrypted_message = \"\"\n",
    "        string = self.decryptedbinary\n",
    "        for i in range(iterations):\n",
    "            decryption_list.append(string[:8])\n",
    "            string = string[8:]\n",
    "            #print(chr(int(string[:7], 2)))\n",
    "            #self.decrypted_message += chr(int(string[:7], 2))\n",
    "            #string = string[7:]\n",
    "            #print(string)\n",
    "        print(\"for gods sake : \",decryption_list)    \n",
    "        self.decrypted_message = self.bits2string(decryption_list)    \n",
    "        print(\"this is decrypted message : \",self.decrypted_message,\" and its length : \",len(self.decrypted_message))\n",
    "        \n",
    "        # return the decrypted string\n",
    "        return self.decrypted_message"
   ]
  },
  {
   "cell_type": "code",
   "execution_count": null,
   "metadata": {},
   "outputs": [],
   "source": []
  },
  {
   "cell_type": "code",
   "execution_count": null,
   "metadata": {},
   "outputs": [],
   "source": []
  },
  {
   "cell_type": "code",
   "execution_count": null,
   "metadata": {},
   "outputs": [],
   "source": []
  },
  {
   "cell_type": "code",
   "execution_count": 367,
   "metadata": {},
   "outputs": [],
   "source": [
    "class knapsack:\n",
    "    \n",
    "    def __init__(self,n:int):\n",
    "        \n",
    "        self.n = n\n",
    "        self.private_key = self.generatePrivateKey()\n",
    "        self.public_key = self.generatePublicKey()\n",
    "\n",
    "    def generatePrivateKey(self) -> list:\n",
    "\n",
    "        # to obtain random seeds\n",
    "        random.seed(time.time())\n",
    "\n",
    "        # generate the first number of the series\n",
    "        self.sum = random.randint(100,500)\n",
    "    \n",
    "        # private key\n",
    "        key = [self.sum]\n",
    "        \n",
    "        # generate the remaining values for private key\n",
    "        for i in range(self.n-1):\n",
    "            nextnum = random.randint(self.sum+1,self.sum+100)\n",
    "            self.sum += nextnum\n",
    "            key.append(nextnum)        \n",
    "            \n",
    "        # store the modulo required for public key generation\n",
    "        self.modulo = random.randint(self.sum+130,self.sum+150)\n",
    "        \n",
    "        # get the generator function\n",
    "        prime_handle = prime.get_primes(self.sum+100)\n",
    "        \n",
    "        # get the first prime number : to ensure multiplier and modulo are co prime\n",
    "        self.multiplier = prime_handle.send(None)\n",
    "        \n",
    "        # get the inverse of multiplier\n",
    "        self.inverse = gcd.modinv(self.multiplier,self.modulo)\n",
    "        \n",
    "        self.private_key = key\n",
    "        # return the private key\n",
    "        return self.private_key    \n",
    "    \n",
    "    def generatePublicKey(self) -> list:        \n",
    "        self.public_key = [ (x*self.multiplier)%self.modulo for x in self.private_key ]\n",
    "        return self.public_key\n",
    "        \n",
    "    def string2bits(self,s=''):\n",
    "        return [bin(ord(x))[2:].zfill(8) for x in s]\n",
    "    \n",
    "    def bits2string(self,b=None):\n",
    "        return ''.join([chr(int(x, 2)) for x in b])    \n",
    "    \n",
    "    def padding(self,extraspace:int) -> str:\n",
    "        self.padtext = \"0\"*extraspace\n",
    "    \n",
    "    def convertToBinary(self) -> str:\n",
    "        \n",
    "        # convert string to binary\n",
    "        self.binary = ''.join(self.string2bits(self.text))\n",
    "        \n",
    "        # to check if padding is needed or not\n",
    "        length = len(self.binary)\n",
    "        \n",
    "        # add padding if needed to make proper multiple\n",
    "        self.padtext = \"\"\n",
    "        if(length%self.n != 0):\n",
    "            extraspace = self.n - length%self.n\n",
    "            self.padding(extraspace)\n",
    "            self.binary = self.binary + self.padtext\n",
    "        \n",
    "    def encrypt(self,text:str) -> str:\n",
    "        \n",
    "        # store the plaintext\n",
    "        self.text = text\n",
    "        # convert the text to binary\n",
    "        self.convertToBinary()\n",
    "\n",
    "        self.encryptedlist = []\n",
    "        traversals = int(len(self.binary)/self.n)\n",
    "        \n",
    "        # encode the string\n",
    "        j = 0\n",
    "        for i in range(traversals):\n",
    "            temp = 0\n",
    "            for val in self.public_key:\n",
    "                if(self.binary[j] == '1'):\n",
    "                    temp += val\n",
    "                j += 1    \n",
    "            self.encryptedlist.append(temp)   \n",
    "                    \n",
    "        # convert the list to string\n",
    "        self.encrypted_message = ''.join(map(lambda x: str(x),self.encryptedlist))\n",
    "        return self.encrypted_message,self.encryptedlist\n",
    "    \n",
    "    def helper(self,num):\n",
    "        # find out the binary value for given set using private key\n",
    "        decryptbin = \"\"\n",
    "        for val in reversed(self.private_key):\n",
    "            if num >= val:\n",
    "                num -= val\n",
    "                decryptbin += \"1\"\n",
    "            else:\n",
    "                decryptbin += \"0\"\n",
    "        return decryptbin[::-1]\n",
    "        \n",
    "    def decrypt(self,encryptlist:list) -> str:\n",
    "        \n",
    "        # decrypt the list\n",
    "        self.decryptedlist = [ (x*self.inverse)%self.modulo for x in encryptlist ]\n",
    "        \n",
    "        self.decryptedbinary = \"\"\n",
    "        for val in self.decryptedlist:\n",
    "            self.decryptedbinary += self.helper(val)\n",
    "        \n",
    "        # remove the extra padded space\n",
    "        length = len(self.decryptedbinary) - len(self.padtext)\n",
    "        self.decryptedbinary = self.decryptedbinary[:length]\n",
    "        \n",
    "        # convert binary to string\n",
    "        iterations = int(len(self.decryptedbinary)/8)\n",
    "        \n",
    "        # convert binary string to list to be sent to function\n",
    "        decryption_list = []\n",
    "        self.decrypted_message = \"\"\n",
    "        string = self.decryptedbinary\n",
    "        for i in range(iterations):\n",
    "            decryption_list.append(string[:8])\n",
    "            string = string[8:]\n",
    "        \n",
    "        # retreive the original decoded message\n",
    "        self.decrypted_message = self.bits2string(decryption_list)    \n",
    "        \n",
    "        # return the decrypted string\n",
    "        return self.decrypted_message"
   ]
  },
  {
   "cell_type": "code",
   "execution_count": 370,
   "metadata": {},
   "outputs": [],
   "source": [
    "final = knapsack(23)\n",
    "encryptedmsg,encryptedlist = final.encrypt(\"My name is arjun khera $ And i am the best\")"
   ]
  },
  {
   "cell_type": "code",
   "execution_count": 371,
   "metadata": {},
   "outputs": [
    {
     "name": "stdout",
     "output_type": "stream",
     "text": [
      "My name is arjun khera $ And i am the best\n"
     ]
    }
   ],
   "source": [
    "print(final.decrypt(encryptedlist))"
   ]
  }
 ],
 "metadata": {
  "kernelspec": {
   "display_name": "Python 3",
   "language": "python",
   "name": "python3"
  },
  "language_info": {
   "codemirror_mode": {
    "name": "ipython",
    "version": 3
   },
   "file_extension": ".py",
   "mimetype": "text/x-python",
   "name": "python",
   "nbconvert_exporter": "python",
   "pygments_lexer": "ipython3",
   "version": "3.5.2"
  }
 },
 "nbformat": 4,
 "nbformat_minor": 2
}
